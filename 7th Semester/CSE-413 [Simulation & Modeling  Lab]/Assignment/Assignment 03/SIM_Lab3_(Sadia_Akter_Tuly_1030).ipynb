{
  "nbformat": 4,
  "nbformat_minor": 0,
  "metadata": {
    "colab": {
      "provenance": []
    },
    "kernelspec": {
      "name": "python3",
      "display_name": "Python 3"
    },
    "language_info": {
      "name": "python"
    }
  },
  "cells": [
    {
      "cell_type": "code",
      "execution_count": 1,
      "metadata": {
        "id": "Elh_x3qrgC4p"
      },
      "outputs": [],
      "source": [
        "import numpy as np\n",
        "from sympy import Matrix\n",
        "import matplotlib.pyplot as plt\n",
        "import seaborn as sns"
      ]
    },
    {
      "cell_type": "markdown",
      "source": [
        "Histogram of Uniform Distribution with Random Numbers"
      ],
      "metadata": {
        "id": "9AjxG03Ylt7c"
      }
    },
    {
      "cell_type": "markdown",
      "source": [
        "Use np.random.rand() to generate a 1×10 vector of random numbers between 0and1.\n",
        "\n",
        "Plot a histogram of the 1×10 vector to visualize the distribution."
      ],
      "metadata": {
        "id": "aqomaL0gvh45"
      }
    },
    {
      "cell_type": "code",
      "source": [
        "data = np.random.rand(10)\n",
        "plt.hist(data, bins=3, edgecolor='black')"
      ],
      "metadata": {
        "colab": {
          "base_uri": "https://localhost:8080/",
          "height": 482
        },
        "id": "DEBt11DGjPs9",
        "outputId": "8d0c2d1d-78fa-46dc-fb5c-e3fbf93bc701"
      },
      "execution_count": 2,
      "outputs": [
        {
          "output_type": "execute_result",
          "data": {
            "text/plain": [
              "(array([5., 1., 4.]),\n",
              " array([0.01217375, 0.31352609, 0.61487843, 0.91623077]),\n",
              " <BarContainer object of 3 artists>)"
            ]
          },
          "metadata": {},
          "execution_count": 2
        },
        {
          "output_type": "display_data",
          "data": {
            "text/plain": [
              "<Figure size 640x480 with 1 Axes>"
            ],
            "image/png": "[encoded data removed]"
          },
          "metadata": {}
        }
      ]
    },
    {
      "cell_type": "markdown",
      "source": [
        "2. Normally Distributed Random Numbers"
      ],
      "metadata": {
        "id": "mHTmsZozr8aj"
      }
    },
    {
      "cell_type": "markdown",
      "source": [
        "Generate 500 random numbers from a standard normal distribution (mean=0, standard deviation=1) using np.random.normal.\n",
        "Plot a histogram of these numbers to visualize the normal distribution."
      ],
      "metadata": {
        "id": "Ndrltwegvr3x"
      }
    },
    {
      "cell_type": "code",
      "source": [
        "random_number = np.random.normal(100,10,10000)\n",
        "plt.hist(random_number, bins=40, edgecolor='black')"
      ],
      "metadata": {
        "colab": {
          "base_uri": "https://localhost:8080/",
          "height": 708
        },
        "id": "-c0zjM9-sA0C",
        "outputId": "c3cf11d0-18a8-428b-b955-62a0af07022e"
      },
      "execution_count": 3,
      "outputs": [
        {
          "output_type": "execute_result",
          "data": {
            "text/plain": [
              "(array([  1.,   1.,   0.,   2.,   8.,   7.,   8.,  28.,  52.,  63., 100.,\n",
              "        150., 210., 282., 369., 475., 524., 627., 708., 743., 809., 775.,\n",
              "        686., 643., 592., 496., 408., 355., 272., 193., 140.,  96.,  69.,\n",
              "         41.,  28.,  15.,  10.,   9.,   4.,   1.]),\n",
              " array([ 59.44031475,  61.37472629,  63.30913782,  65.24354936,\n",
              "         67.1779609 ,  69.11237244,  71.04678397,  72.98119551,\n",
              "         74.91560705,  76.85001858,  78.78443012,  80.71884166,\n",
              "         82.6532532 ,  84.58766473,  86.52207627,  88.45648781,\n",
              "         90.39089934,  92.32531088,  94.25972242,  96.19413396,\n",
              "         98.12854549, 100.06295703, 101.99736857, 103.93178011,\n",
              "        105.86619164, 107.80060318, 109.73501472, 111.66942625,\n",
              "        113.60383779, 115.53824933, 117.47266087, 119.4070724 ,\n",
              "        121.34148394, 123.27589548, 125.21030701, 127.14471855,\n",
              "        129.07913009, 131.01354163, 132.94795316, 134.8823647 ,\n",
              "        136.81677624]),\n",
              " <BarContainer object of 40 artists>)"
            ]
          },
          "metadata": {},
          "execution_count": 3
        },
        {
          "output_type": "display_data",
          "data": {
            "text/plain": [
              "<Figure size 640x480 with 1 Axes>"
            ],
            "image/png": "[encoded data removed]"
          },
          "metadata": {}
        }
      ]
    },
    {
      "cell_type": "markdown",
      "source": [
        "Student Lab Assignment 2"
      ],
      "metadata": {
        "id": "gn__B4cwvVOq"
      }
    },
    {
      "cell_type": "markdown",
      "source": [
        "Use numpy to create a 3×3 matrix of random integers between 1 and 50.\n",
        "Run the code twice:\n",
        "With a fixed seed (np.random.seed(10)) to ensure reproducibility.\n",
        "Without setting a seed, allowing random values to change each time.\n",
        "Observe and explain the differences in outputs."
      ],
      "metadata": {
        "id": "A2QgovDKvdL5"
      }
    },
    {
      "cell_type": "code",
      "source": [
        "# With Seed\n",
        "np.random.seed(10)  # Setting seed to 10\n",
        "seeded_matrix = np.random.randint(1, 51, (3, 3))\n",
        "print(\"Seeded Random Matrix:\\n\", seeded_matrix)\n",
        "\n",
        "# Without Seed\n",
        "np.random.seed(None)  # No seed, generates different values each time\n",
        "non_seeded_matrix = np.random.randint(1, 51, (3, 3))\n",
        "print(\"\\nNon-Seeded Random Matrix:\\n\", non_seeded_matrix)\n"
      ],
      "metadata": {
        "colab": {
          "base_uri": "https://localhost:8080/"
        },
        "id": "Wmy_59OhvWWS",
        "outputId": "772ee38a-8b08-429a-ad2e-5e363762d8db"
      },
      "execution_count": null,
      "outputs": [
        {
          "output_type": "stream",
          "name": "stdout",
          "text": [
            "Seeded Random Matrix:\n",
            " [[10 37 16]\n",
            " [ 1 50 29]\n",
            " [26 30 49]]\n",
            "\n",
            "Non-Seeded Random Matrix:\n",
            " [[18 18 24]\n",
            " [12 50 44]\n",
            " [15 35 44]]\n"
          ]
        }
      ]
    }
  ]
}